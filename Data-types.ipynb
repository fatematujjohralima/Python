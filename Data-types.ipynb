{
 "cells": [
  {
   "cell_type": "code",
   "execution_count": 1,
   "id": "1ab395e3-830d-4351-abf1-d335e76930e7",
   "metadata": {},
   "outputs": [],
   "source": [
    "#Numeric Data \n",
    "\n",
    "x = 10 #int\n",
    "y = 10.5 #float\n",
    "z = 10+5j #10 is real number and 5j is imaginary"
   ]
  },
  {
   "cell_type": "code",
   "execution_count": 2,
   "id": "fde6fd0b-71d1-4949-a845-712642631035",
   "metadata": {},
   "outputs": [
    {
     "data": {
      "text/plain": [
       "int"
      ]
     },
     "execution_count": 2,
     "metadata": {},
     "output_type": "execute_result"
    }
   ],
   "source": [
    "type(x)"
   ]
  },
  {
   "cell_type": "code",
   "execution_count": 3,
   "id": "86b95e3d-130e-4722-a3c9-bd32fd3406c1",
   "metadata": {},
   "outputs": [
    {
     "data": {
      "text/plain": [
       "float"
      ]
     },
     "execution_count": 3,
     "metadata": {},
     "output_type": "execute_result"
    }
   ],
   "source": [
    "type(y)"
   ]
  },
  {
   "cell_type": "code",
   "execution_count": 4,
   "id": "3ae2f864-b88a-4f68-be0f-eb3b7135d3d3",
   "metadata": {},
   "outputs": [
    {
     "data": {
      "text/plain": [
       "complex"
      ]
     },
     "execution_count": 4,
     "metadata": {},
     "output_type": "execute_result"
    }
   ],
   "source": [
    "type(z)"
   ]
  },
  {
   "cell_type": "code",
   "execution_count": 5,
   "id": "f296c6c2-1d14-4803-926d-053d02b1f04e",
   "metadata": {},
   "outputs": [
    {
     "data": {
      "text/plain": [
       "True"
      ]
     },
     "execution_count": 5,
     "metadata": {},
     "output_type": "execute_result"
    }
   ],
   "source": [
    "isinstance(z,complex)  #isinstance() boolean value return kore....eti type dekhar arekti function"
   ]
  },
  {
   "cell_type": "code",
   "execution_count": 6,
   "id": "efae44ed-02e6-4f69-b147-085aae1bd5b4",
   "metadata": {},
   "outputs": [],
   "source": [
    "#int to float\n",
    "n = float(x)"
   ]
  },
  {
   "cell_type": "code",
   "execution_count": 7,
   "id": "4147695c-41f0-47d2-b887-9ffcd9261589",
   "metadata": {},
   "outputs": [
    {
     "data": {
      "text/plain": [
       "10.0"
      ]
     },
     "execution_count": 7,
     "metadata": {},
     "output_type": "execute_result"
    }
   ],
   "source": [
    "n"
   ]
  },
  {
   "cell_type": "code",
   "execution_count": 8,
   "id": "588df8ed-2ec6-4954-8f40-b65cb30d0e24",
   "metadata": {},
   "outputs": [],
   "source": [
    "#int to complex\n",
    "n = complex(n)  # complex k onno data type e convert kora jay na"
   ]
  },
  {
   "cell_type": "code",
   "execution_count": 9,
   "id": "45cd28a1-3c39-4382-8154-ec89fc6d50b6",
   "metadata": {},
   "outputs": [
    {
     "data": {
      "text/plain": [
       "(10+0j)"
      ]
     },
     "execution_count": 9,
     "metadata": {},
     "output_type": "execute_result"
    }
   ],
   "source": [
    "n"
   ]
  },
  {
   "cell_type": "code",
   "execution_count": 10,
   "id": "215ed9e1-06f7-4d00-ae5b-48f949cd756b",
   "metadata": {},
   "outputs": [
    {
     "data": {
      "text/plain": [
       "complex"
      ]
     },
     "execution_count": 10,
     "metadata": {},
     "output_type": "execute_result"
    }
   ],
   "source": [
    "type(n)"
   ]
  },
  {
   "cell_type": "code",
   "execution_count": 11,
   "id": "d1e410b4-2630-4406-a752-1ae1752787e0",
   "metadata": {},
   "outputs": [
    {
     "name": "stdin",
     "output_type": "stream",
     "text": [
      "Enter your complex number :-  47\n"
     ]
    }
   ],
   "source": [
    "n = complex(input('Enter your complex number :- '))"
   ]
  },
  {
   "cell_type": "code",
   "execution_count": 14,
   "id": "56fce7f5-366a-4b26-9454-3e31ea00d725",
   "metadata": {},
   "outputs": [
    {
     "data": {
      "text/plain": [
       "(47+0j)"
      ]
     },
     "execution_count": 14,
     "metadata": {},
     "output_type": "execute_result"
    }
   ],
   "source": [
    "n\n"
   ]
  },
  {
   "cell_type": "code",
   "execution_count": 15,
   "id": "5b753327-0bdd-4dea-a9a3-493ac40872ce",
   "metadata": {},
   "outputs": [
    {
     "data": {
      "text/plain": [
       "complex"
      ]
     },
     "execution_count": 15,
     "metadata": {},
     "output_type": "execute_result"
    }
   ],
   "source": [
    "type(n)"
   ]
  },
  {
   "cell_type": "markdown",
   "id": "15361fe8-29d4-4497-a8fe-b529af271141",
   "metadata": {},
   "source": [
    "Bool\n"
   ]
  },
  {
   "cell_type": "code",
   "execution_count": 16,
   "id": "57fbf6fe-22b6-4fb1-a08e-d3917cad0d7d",
   "metadata": {},
   "outputs": [],
   "source": [
    "x = True\n",
    "y = False"
   ]
  },
  {
   "cell_type": "code",
   "execution_count": 17,
   "id": "2b4c11f1-528b-4144-9318-446768c9a288",
   "metadata": {},
   "outputs": [
    {
     "data": {
      "text/plain": [
       "True"
      ]
     },
     "execution_count": 17,
     "metadata": {},
     "output_type": "execute_result"
    }
   ],
   "source": [
    "x"
   ]
  },
  {
   "cell_type": "code",
   "execution_count": 18,
   "id": "d3d624cf-af50-40e8-a31a-26ef7220b516",
   "metadata": {},
   "outputs": [
    {
     "data": {
      "text/plain": [
       "False"
      ]
     },
     "execution_count": 18,
     "metadata": {},
     "output_type": "execute_result"
    }
   ],
   "source": [
    "y"
   ]
  },
  {
   "cell_type": "markdown",
   "id": "218d628b-aa61-4980-80b2-a83045a9b5fc",
   "metadata": {},
   "source": [
    "Sequence Data"
   ]
  },
  {
   "cell_type": "code",
   "execution_count": 19,
   "id": "67f58ab7-071e-4b41-82fe-bbacffdc6516",
   "metadata": {},
   "outputs": [],
   "source": [
    "#List []\n",
    "l = [1,2,3,4,True,[1,2],'data',(1,2,3,8)]"
   ]
  },
  {
   "cell_type": "code",
   "execution_count": 20,
   "id": "5fe47f2d-c874-4bcc-9648-bb2151f08d8d",
   "metadata": {},
   "outputs": [
    {
     "data": {
      "text/plain": [
       "[1, 2, 3, 4, True, [1, 2], 'data', (1, 2, 3, 8)]"
      ]
     },
     "execution_count": 20,
     "metadata": {},
     "output_type": "execute_result"
    }
   ],
   "source": [
    "l"
   ]
  },
  {
   "cell_type": "code",
   "execution_count": 21,
   "id": "e6ac8623-d56d-41b7-8081-e9d891f75186",
   "metadata": {},
   "outputs": [
    {
     "data": {
      "text/plain": [
       "1"
      ]
     },
     "execution_count": 21,
     "metadata": {},
     "output_type": "execute_result"
    }
   ],
   "source": [
    "l[0]"
   ]
  },
  {
   "cell_type": "code",
   "execution_count": 22,
   "id": "118d762c-1e9a-475b-a292-75c4e8854c82",
   "metadata": {},
   "outputs": [
    {
     "data": {
      "text/plain": [
       "(1, 2, 3, 8)"
      ]
     },
     "execution_count": 22,
     "metadata": {},
     "output_type": "execute_result"
    }
   ],
   "source": [
    "l[-1]  # -1 means lasst sequence"
   ]
  },
  {
   "cell_type": "code",
   "execution_count": 23,
   "id": "0de44000-5866-4462-b0a0-16928cc52c21",
   "metadata": {},
   "outputs": [
    {
     "data": {
      "text/plain": [
       "8"
      ]
     },
     "execution_count": 23,
     "metadata": {},
     "output_type": "execute_result"
    }
   ],
   "source": [
    "l[-1][-1]"
   ]
  },
  {
   "cell_type": "code",
   "execution_count": 24,
   "id": "ac74d95f-0a82-41ad-93c6-959f18b24893",
   "metadata": {},
   "outputs": [
    {
     "data": {
      "text/plain": [
       "list"
      ]
     },
     "execution_count": 24,
     "metadata": {},
     "output_type": "execute_result"
    }
   ],
   "source": [
    "type(l)"
   ]
  },
  {
   "cell_type": "code",
   "execution_count": 25,
   "id": "9b5239f4-f5be-459a-9774-8b4d7c52ad95",
   "metadata": {},
   "outputs": [
    {
     "data": {
      "text/plain": [
       "True"
      ]
     },
     "execution_count": 25,
     "metadata": {},
     "output_type": "execute_result"
    }
   ],
   "source": [
    "isinstance(l,list)"
   ]
  },
  {
   "cell_type": "code",
   "execution_count": 26,
   "id": "f307eb5d-d6a6-44ba-8ba4-3a026b72f900",
   "metadata": {},
   "outputs": [
    {
     "data": {
      "text/plain": [
       "tuple"
      ]
     },
     "execution_count": 26,
     "metadata": {},
     "output_type": "execute_result"
    }
   ],
   "source": [
    "#Tuple ()\n",
    "\n",
    "t = (1,5,8,9,'lima')\n",
    "type(t)"
   ]
  },
  {
   "cell_type": "code",
   "execution_count": 27,
   "id": "28d7d7cc-8bc8-4620-91a5-2bd34649bcd4",
   "metadata": {},
   "outputs": [
    {
     "data": {
      "text/plain": [
       "1"
      ]
     },
     "execution_count": 27,
     "metadata": {},
     "output_type": "execute_result"
    }
   ],
   "source": [
    "t[0]"
   ]
  },
  {
   "cell_type": "code",
   "execution_count": 28,
   "id": "7667fd5a-feb4-41db-9b95-843fe153de1e",
   "metadata": {},
   "outputs": [
    {
     "data": {
      "text/plain": [
       "'lima'"
      ]
     },
     "execution_count": 28,
     "metadata": {},
     "output_type": "execute_result"
    }
   ],
   "source": [
    "t[4]"
   ]
  },
  {
   "cell_type": "code",
   "execution_count": 29,
   "id": "5a6bca55-e8ee-4969-a2f0-25fa64b59067",
   "metadata": {},
   "outputs": [
    {
     "data": {
      "text/plain": [
       "(1, 5, 8, 9)"
      ]
     },
     "execution_count": 29,
     "metadata": {},
     "output_type": "execute_result"
    }
   ],
   "source": [
    "t[0:4] # colon means to ; 0 to 4-1"
   ]
  },
  {
   "cell_type": "code",
   "execution_count": 38,
   "id": "6e3f889b-eeb9-47b8-b40e-4b9924e67eda",
   "metadata": {},
   "outputs": [],
   "source": [
    "#Range()\n",
    "\n",
    "x = range(10) #1st case"
   ]
  },
  {
   "cell_type": "code",
   "execution_count": 39,
   "id": "bf108c55-cabf-4ce7-a63e-852249ed4ba9",
   "metadata": {},
   "outputs": [
    {
     "data": {
      "text/plain": [
       "range(0, 10)"
      ]
     },
     "execution_count": 39,
     "metadata": {},
     "output_type": "execute_result"
    }
   ],
   "source": [
    "x\n"
   ]
  },
  {
   "cell_type": "code",
   "execution_count": 40,
   "id": "25692f36-bdef-4f5f-8507-26d849e1dbae",
   "metadata": {},
   "outputs": [
    {
     "name": "stdout",
     "output_type": "stream",
     "text": [
      "0\n",
      "1\n",
      "2\n",
      "3\n",
      "4\n",
      "5\n",
      "6\n",
      "7\n",
      "8\n",
      "9\n"
     ]
    }
   ],
   "source": [
    "for i in x:\n",
    "    print(i)"
   ]
  },
  {
   "cell_type": "code",
   "execution_count": 41,
   "id": "8b8ddcfd-a00c-4502-bd3e-1c540a8d08e0",
   "metadata": {},
   "outputs": [
    {
     "name": "stdout",
     "output_type": "stream",
     "text": [
      "5\n",
      "6\n",
      "7\n",
      "8\n",
      "9\n",
      "10\n",
      "11\n",
      "12\n",
      "13\n",
      "14\n",
      "15\n",
      "16\n",
      "17\n",
      "18\n",
      "19\n"
     ]
    }
   ],
   "source": [
    "x = range(5,20) #2nd case (start to stop)\n",
    "for i in x:\n",
    "    print(i)"
   ]
  },
  {
   "cell_type": "code",
   "execution_count": 42,
   "id": "420a64c9-daa9-4252-b713-e0112bbdf06c",
   "metadata": {},
   "outputs": [
    {
     "name": "stdout",
     "output_type": "stream",
     "text": [
      "5\n",
      "8\n",
      "11\n",
      "14\n",
      "17\n"
     ]
    }
   ],
   "source": [
    "x = range(5,20,3) #3rd case  (start to stop and increase)\n",
    "for i in x:\n",
    "    print(i)"
   ]
  },
  {
   "cell_type": "code",
   "execution_count": 44,
   "id": "b9e27823-7ca3-48a3-a7b6-d671748d8d41",
   "metadata": {},
   "outputs": [
    {
     "name": "stdout",
     "output_type": "stream",
     "text": [
      "20\n",
      "17\n",
      "14\n",
      "11\n",
      "8\n"
     ]
    }
   ],
   "source": [
    "x = range(20,5,-3) #4th case  (start to stop and decrease)\n",
    "for i in x:\n",
    "    print(i)"
   ]
  },
  {
   "cell_type": "code",
   "execution_count": 45,
   "id": "1f62dbfa-6bab-48bc-827f-488ae3de6642",
   "metadata": {},
   "outputs": [],
   "source": [
    "#array\n",
    "import array as ar"
   ]
  },
  {
   "cell_type": "code",
   "execution_count": 47,
   "id": "5adb95a3-d2f1-4611-bd7b-c1423ab3f584",
   "metadata": {},
   "outputs": [
    {
     "data": {
      "text/plain": [
       "array('i', [1, 2, 3, 4])"
      ]
     },
     "execution_count": 47,
     "metadata": {},
     "output_type": "execute_result"
    }
   ],
   "source": [
    "a = ar.array('i',[1,2,3,4])\n",
    "a"
   ]
  },
  {
   "cell_type": "code",
   "execution_count": 48,
   "id": "9a4a219f-832b-4641-b72f-2336402fe28c",
   "metadata": {},
   "outputs": [
    {
     "data": {
      "text/plain": [
       "str"
      ]
     },
     "execution_count": 48,
     "metadata": {},
     "output_type": "execute_result"
    }
   ],
   "source": [
    "#string\n",
    "x = 'data'\n",
    "type(x)"
   ]
  },
  {
   "cell_type": "code",
   "execution_count": 49,
   "id": "6f15e00c-2181-4bc5-be30-a92ed5f81710",
   "metadata": {},
   "outputs": [
    {
     "data": {
      "text/plain": [
       "str"
      ]
     },
     "execution_count": 49,
     "metadata": {},
     "output_type": "execute_result"
    }
   ],
   "source": [
    "x = \"data\"\n",
    "type(x)"
   ]
  },
  {
   "cell_type": "code",
   "execution_count": 52,
   "id": "434e3d90-12c4-4ec0-91ac-88c1315d2ce2",
   "metadata": {},
   "outputs": [],
   "source": [
    "x ='''I love\n",
    "Data Science'''   #multiple line string"
   ]
  },
  {
   "cell_type": "code",
   "execution_count": 53,
   "id": "0e5cb4b4-92a2-4edf-8fb6-ea81c9be5e94",
   "metadata": {},
   "outputs": [
    {
     "data": {
      "text/plain": [
       "'I love\\nData Science'"
      ]
     },
     "execution_count": 53,
     "metadata": {},
     "output_type": "execute_result"
    }
   ],
   "source": [
    "x"
   ]
  },
  {
   "cell_type": "code",
   "execution_count": 54,
   "id": "9415e24f-bea9-4aa1-9fc9-7110d0520a2c",
   "metadata": {},
   "outputs": [
    {
     "data": {
      "text/plain": [
       "str"
      ]
     },
     "execution_count": 54,
     "metadata": {},
     "output_type": "execute_result"
    }
   ],
   "source": [
    "type(x)\n"
   ]
  },
  {
   "cell_type": "code",
   "execution_count": 55,
   "id": "8bb4a362-bb27-4e4f-9f08-d514f29a7d51",
   "metadata": {},
   "outputs": [],
   "source": [
    "#Set\n",
    "\n",
    "s = {1,2,3,5}"
   ]
  },
  {
   "cell_type": "code",
   "execution_count": 56,
   "id": "cddbd76e-9129-4ec3-ac4f-b1dc80fa135f",
   "metadata": {},
   "outputs": [
    {
     "data": {
      "text/plain": [
       "set"
      ]
     },
     "execution_count": 56,
     "metadata": {},
     "output_type": "execute_result"
    }
   ],
   "source": [
    "type(s)"
   ]
  },
  {
   "cell_type": "code",
   "execution_count": 58,
   "id": "341218a7-b2cf-482d-ad20-ce65d26b14e4",
   "metadata": {},
   "outputs": [],
   "source": [
    "#Dictionary\n",
    "\n",
    "dic={\n",
    "    'varsity': 'NWU',\n",
    "    'Dept': 'CSE'\n",
    "}"
   ]
  },
  {
   "cell_type": "code",
   "execution_count": 59,
   "id": "04b7649e-5b31-49ba-ad85-5beaa7c5b4bf",
   "metadata": {},
   "outputs": [
    {
     "data": {
      "text/plain": [
       "{'varsity': 'NWU', 'Dept': 'CSE'}"
      ]
     },
     "execution_count": 59,
     "metadata": {},
     "output_type": "execute_result"
    }
   ],
   "source": [
    "dic"
   ]
  },
  {
   "cell_type": "code",
   "execution_count": 61,
   "id": "738025a9-d197-40f1-bf23-549cf0db73bc",
   "metadata": {},
   "outputs": [
    {
     "data": {
      "text/plain": [
       "dict_keys(['varsity', 'Dept'])"
      ]
     },
     "execution_count": 61,
     "metadata": {},
     "output_type": "execute_result"
    }
   ],
   "source": [
    "dic.keys()"
   ]
  },
  {
   "cell_type": "code",
   "execution_count": 63,
   "id": "f398df3e-75a0-4251-95cf-9ef02055ada7",
   "metadata": {},
   "outputs": [
    {
     "data": {
      "text/plain": [
       "dict_values(['NWU', 'CSE'])"
      ]
     },
     "execution_count": 63,
     "metadata": {},
     "output_type": "execute_result"
    }
   ],
   "source": [
    "dic.values()"
   ]
  },
  {
   "cell_type": "code",
   "execution_count": 64,
   "id": "ba590261-2c58-4826-b816-c724aa63b191",
   "metadata": {},
   "outputs": [],
   "source": [
    "#Data Frame (Pandas)\n",
    "\n",
    "import pandas as pd\n",
    "df = pd.read_excel('lima000247.xlsx')"
   ]
  },
  {
   "cell_type": "code",
   "execution_count": 65,
   "id": "70ed1ee1-9ce4-4705-83ad-1f27f2e59c84",
   "metadata": {},
   "outputs": [
    {
     "data": {
      "text/plain": [
       "<bound method NDFrame.head of                                                  comment     label\n",
       "0                                         আলহামদুলিল্লাহ  Positive\n",
       "1              সবাই তৌহিদ আফ্রিদিকে আনসাবস্ক্রাইব করেন।।  Negative\n",
       "2                           এটা ছাত্রলীগ ছাড়া আর কেউ না।  Negative\n",
       "3                              নতুন নাটক শুরু করছে আবার   Negative\n",
       "4      কেউ কি বলতে পারেন এই সরকার কোন খাতে উন্নয়ন করে...  Negative\n",
       "...                                                  ...       ...\n",
       "18303                       আসলেই হারুন সাহেব ভালো মানুষ  Positive\n",
       "18304                              বিজয় আসবে ইনশা আল্লাহ  Positive\n",
       "18305                             ছাত্রলীগ পালাইলো কেন??  Negative\n",
       "18306                      আগামীর বাংলাদেশ আমাদের অহংকার  Positive\n",
       "18307              এই ছাত্রছাত্রীদের হাত ধরেইন শা আল্লাহ  Positive\n",
       "\n",
       "[18308 rows x 2 columns]>"
      ]
     },
     "execution_count": 65,
     "metadata": {},
     "output_type": "execute_result"
    }
   ],
   "source": [
    "df.head"
   ]
  },
  {
   "cell_type": "code",
   "execution_count": 66,
   "id": "bb498e07-2b49-4352-a184-8845ae0a06d0",
   "metadata": {},
   "outputs": [
    {
     "data": {
      "text/plain": [
       "(18308, 2)"
      ]
     },
     "execution_count": 66,
     "metadata": {},
     "output_type": "execute_result"
    }
   ],
   "source": [
    "df.shape"
   ]
  },
  {
   "cell_type": "code",
   "execution_count": 67,
   "id": "436d6147-78b1-4b29-8095-c6e2dedfa4da",
   "metadata": {},
   "outputs": [
    {
     "data": {
      "text/plain": [
       "<bound method DataFrame.info of                                                  comment     label\n",
       "0                                         আলহামদুলিল্লাহ  Positive\n",
       "1              সবাই তৌহিদ আফ্রিদিকে আনসাবস্ক্রাইব করেন।।  Negative\n",
       "2                           এটা ছাত্রলীগ ছাড়া আর কেউ না।  Negative\n",
       "3                              নতুন নাটক শুরু করছে আবার   Negative\n",
       "4      কেউ কি বলতে পারেন এই সরকার কোন খাতে উন্নয়ন করে...  Negative\n",
       "...                                                  ...       ...\n",
       "18303                       আসলেই হারুন সাহেব ভালো মানুষ  Positive\n",
       "18304                              বিজয় আসবে ইনশা আল্লাহ  Positive\n",
       "18305                             ছাত্রলীগ পালাইলো কেন??  Negative\n",
       "18306                      আগামীর বাংলাদেশ আমাদের অহংকার  Positive\n",
       "18307              এই ছাত্রছাত্রীদের হাত ধরেইন শা আল্লাহ  Positive\n",
       "\n",
       "[18308 rows x 2 columns]>"
      ]
     },
     "execution_count": 67,
     "metadata": {},
     "output_type": "execute_result"
    }
   ],
   "source": [
    "df.info"
   ]
  },
  {
   "cell_type": "code",
   "execution_count": 68,
   "id": "094eab5c-92c1-46b5-a6e1-1387a304b6a6",
   "metadata": {},
   "outputs": [],
   "source": [
    "#Binary Types\n",
    "\n",
    "byte_arr = bytearray('ABCDEF','utf-8')"
   ]
  },
  {
   "cell_type": "code",
   "execution_count": 69,
   "id": "db616a42-357d-4b49-aa3f-07329869e9a7",
   "metadata": {},
   "outputs": [
    {
     "data": {
      "text/plain": [
       "bytearray"
      ]
     },
     "execution_count": 69,
     "metadata": {},
     "output_type": "execute_result"
    }
   ],
   "source": [
    "type(byte_arr)"
   ]
  },
  {
   "cell_type": "code",
   "execution_count": 70,
   "id": "81199e09-c5a2-4068-aa9b-ee695976f9d0",
   "metadata": {},
   "outputs": [
    {
     "data": {
      "text/plain": [
       "bytearray(b'ABCDEF')"
      ]
     },
     "execution_count": 70,
     "metadata": {},
     "output_type": "execute_result"
    }
   ],
   "source": [
    "byte_arr"
   ]
  },
  {
   "cell_type": "code",
   "execution_count": 71,
   "id": "a285d517-6fc6-47a9-8f4b-3d411d57fcf3",
   "metadata": {},
   "outputs": [
    {
     "data": {
      "text/plain": [
       "<memory at 0x0000021120BA93C0>"
      ]
     },
     "execution_count": 71,
     "metadata": {},
     "output_type": "execute_result"
    }
   ],
   "source": [
    "memoryview(byte_arr)"
   ]
  },
  {
   "cell_type": "code",
   "execution_count": 72,
   "id": "80953428-3c19-4aae-a179-d9722b9a19b4",
   "metadata": {},
   "outputs": [
    {
     "data": {
      "text/plain": [
       "65"
      ]
     },
     "execution_count": 72,
     "metadata": {},
     "output_type": "execute_result"
    }
   ],
   "source": [
    "memoryview(byte_arr)[0]"
   ]
  },
  {
   "cell_type": "code",
   "execution_count": 73,
   "id": "b86bd1bc-da58-4d49-859e-8de36ca59595",
   "metadata": {},
   "outputs": [],
   "source": [
    "mv = memoryview(byte_arr)\n",
    "mv[0] = 97"
   ]
  },
  {
   "cell_type": "code",
   "execution_count": 74,
   "id": "a7d91886-7b08-47f1-b264-bc02028dc408",
   "metadata": {},
   "outputs": [
    {
     "data": {
      "text/plain": [
       "97"
      ]
     },
     "execution_count": 74,
     "metadata": {},
     "output_type": "execute_result"
    }
   ],
   "source": [
    "memoryview(byte_arr)[0]"
   ]
  },
  {
   "cell_type": "code",
   "execution_count": 75,
   "id": "0a4345e7-c76d-4613-a361-a9c30c245fba",
   "metadata": {},
   "outputs": [
    {
     "data": {
      "text/plain": [
       "bytearray(b'aBCDEF')"
      ]
     },
     "execution_count": 75,
     "metadata": {},
     "output_type": "execute_result"
    }
   ],
   "source": [
    "byte_arr"
   ]
  },
  {
   "cell_type": "code",
   "execution_count": null,
   "id": "5ba6ceb7-3362-409f-99bb-d1597edaf4bc",
   "metadata": {},
   "outputs": [],
   "source": []
  }
 ],
 "metadata": {
  "kernelspec": {
   "display_name": "Python 3 (ipykernel)",
   "language": "python",
   "name": "python3"
  },
  "language_info": {
   "codemirror_mode": {
    "name": "ipython",
    "version": 3
   },
   "file_extension": ".py",
   "mimetype": "text/x-python",
   "name": "python",
   "nbconvert_exporter": "python",
   "pygments_lexer": "ipython3",
   "version": "3.13.3"
  }
 },
 "nbformat": 4,
 "nbformat_minor": 5
}
