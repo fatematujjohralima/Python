{
 "cells": [
  {
   "cell_type": "markdown",
   "id": "48658278-ca7c-43d3-910b-bc5f2818414a",
   "metadata": {},
   "source": [
    "Arithmetic Operator\n"
   ]
  },
  {
   "cell_type": "code",
   "execution_count": 1,
   "id": "4d50d39c-9f54-4fb6-a12e-c074e910a12a",
   "metadata": {},
   "outputs": [],
   "source": [
    "x = 15\n",
    "y = 4\n",
    "z = 3"
   ]
  },
  {
   "cell_type": "code",
   "execution_count": 2,
   "id": "483129a6-66be-4776-aab9-96bed981ad87",
   "metadata": {},
   "outputs": [
    {
     "data": {
      "text/plain": [
       "19"
      ]
     },
     "execution_count": 2,
     "metadata": {},
     "output_type": "execute_result"
    }
   ],
   "source": [
    "x+y #addition"
   ]
  },
  {
   "cell_type": "code",
   "execution_count": 3,
   "id": "523216f2-bdb7-4584-ba9a-9c8689a86d41",
   "metadata": {},
   "outputs": [
    {
     "data": {
      "text/plain": [
       "11"
      ]
     },
     "execution_count": 3,
     "metadata": {},
     "output_type": "execute_result"
    }
   ],
   "source": [
    "x-y #subtraction"
   ]
  },
  {
   "cell_type": "code",
   "execution_count": 4,
   "id": "6d64e1b3-f3d6-4ec9-96f3-2123b7e212de",
   "metadata": {},
   "outputs": [
    {
     "data": {
      "text/plain": [
       "3.75"
      ]
     },
     "execution_count": 4,
     "metadata": {},
     "output_type": "execute_result"
    }
   ],
   "source": [
    "x/y #Division"
   ]
  },
  {
   "cell_type": "code",
   "execution_count": 5,
   "id": "7c243ab9-7d70-4aa1-a58c-0e12b9f6be6b",
   "metadata": {},
   "outputs": [
    {
     "data": {
      "text/plain": [
       "60"
      ]
     },
     "execution_count": 5,
     "metadata": {},
     "output_type": "execute_result"
    }
   ],
   "source": [
    "x*y #Multiplication"
   ]
  },
  {
   "cell_type": "code",
   "execution_count": 7,
   "id": "11b89fee-72fc-4cea-b656-44d37c7acc7f",
   "metadata": {},
   "outputs": [
    {
     "data": {
      "text/plain": [
       "50625"
      ]
     },
     "execution_count": 7,
     "metadata": {},
     "output_type": "execute_result"
    }
   ],
   "source": [
    "x**y #Exponentiation(to the power)"
   ]
  },
  {
   "cell_type": "code",
   "execution_count": 9,
   "id": "6511995c-9f94-49f0-9917-b554609e99da",
   "metadata": {},
   "outputs": [
    {
     "data": {
      "text/plain": [
       "3"
      ]
     },
     "execution_count": 9,
     "metadata": {},
     "output_type": "execute_result"
    }
   ],
   "source": [
    "x//y # Floor value"
   ]
  },
  {
   "cell_type": "code",
   "execution_count": 10,
   "id": "b0336323-3d77-4b40-800a-30ccd17e574f",
   "metadata": {},
   "outputs": [
    {
     "data": {
      "text/plain": [
       "3"
      ]
     },
     "execution_count": 10,
     "metadata": {},
     "output_type": "execute_result"
    }
   ],
   "source": [
    "#another approches of flooring & ceiling\n",
    "import math\n",
    "math.floor(x/y)"
   ]
  },
  {
   "cell_type": "code",
   "execution_count": 11,
   "id": "06648693-25c8-404e-975e-b8df97e45890",
   "metadata": {},
   "outputs": [
    {
     "data": {
      "text/plain": [
       "4"
      ]
     },
     "execution_count": 11,
     "metadata": {},
     "output_type": "execute_result"
    }
   ],
   "source": [
    "math.ceil(x/y)"
   ]
  },
  {
   "cell_type": "markdown",
   "id": "a9351883-2c7c-4a89-a680-bfd59ce6b3b4",
   "metadata": {},
   "source": [
    "Identity Operator('is' , 'is not')"
   ]
  },
  {
   "cell_type": "code",
   "execution_count": 12,
   "id": "6dace30f-4798-4ed0-a0c1-f9e5bc11d97b",
   "metadata": {},
   "outputs": [
    {
     "data": {
      "text/plain": [
       "True"
      ]
     },
     "execution_count": 12,
     "metadata": {},
     "output_type": "execute_result"
    }
   ],
   "source": [
    "x = 10\n",
    "y = 10\n",
    "x is y"
   ]
  },
  {
   "cell_type": "code",
   "execution_count": 13,
   "id": "1af7c38e-20f7-4de3-bfd4-08c7912acd47",
   "metadata": {},
   "outputs": [
    {
     "data": {
      "text/plain": [
       "True"
      ]
     },
     "execution_count": 13,
     "metadata": {},
     "output_type": "execute_result"
    }
   ],
   "source": [
    "x == y #(== is comparison operator)"
   ]
  },
  {
   "cell_type": "code",
   "execution_count": 14,
   "id": "baad68c1-2686-4815-9454-3d4c92de31e4",
   "metadata": {},
   "outputs": [],
   "source": [
    "x = 100017\n",
    "y = x\n",
    "z = 100017"
   ]
  },
  {
   "cell_type": "code",
   "execution_count": 15,
   "id": "804122bf-c85a-4e3b-b311-1fdedda30117",
   "metadata": {},
   "outputs": [
    {
     "data": {
      "text/plain": [
       "True"
      ]
     },
     "execution_count": 15,
     "metadata": {},
     "output_type": "execute_result"
    }
   ],
   "source": [
    "x is y"
   ]
  },
  {
   "cell_type": "code",
   "execution_count": 16,
   "id": "8157e523-bc55-4cbc-abf2-499b021faf49",
   "metadata": {},
   "outputs": [
    {
     "data": {
      "text/plain": [
       "False"
      ]
     },
     "execution_count": 16,
     "metadata": {},
     "output_type": "execute_result"
    }
   ],
   "source": [
    "x is z # value 4 digit er boro value hole address change hoy"
   ]
  },
  {
   "cell_type": "code",
   "execution_count": 20,
   "id": "4d9fb4f3-c8b3-476a-aa78-251a55dba3cf",
   "metadata": {},
   "outputs": [
    {
     "data": {
      "text/plain": [
       "1311399395408"
      ]
     },
     "execution_count": 20,
     "metadata": {},
     "output_type": "execute_result"
    }
   ],
   "source": [
    "id(x)"
   ]
  },
  {
   "cell_type": "code",
   "execution_count": 21,
   "id": "ed2dc031-a732-4677-9ca9-46a9f0b4b6c4",
   "metadata": {},
   "outputs": [
    {
     "data": {
      "text/plain": [
       "1311399395408"
      ]
     },
     "execution_count": 21,
     "metadata": {},
     "output_type": "execute_result"
    }
   ],
   "source": [
    "id(y)"
   ]
  },
  {
   "cell_type": "code",
   "execution_count": 22,
   "id": "a4ec3d9f-db78-4e15-8cef-31c38df90028",
   "metadata": {},
   "outputs": [
    {
     "data": {
      "text/plain": [
       "1311399395856"
      ]
     },
     "execution_count": 22,
     "metadata": {},
     "output_type": "execute_result"
    }
   ],
   "source": [
    "id(z)"
   ]
  },
  {
   "cell_type": "markdown",
   "id": "ceeca6b8-c37d-47f2-bc7d-270c016a33d3",
   "metadata": {},
   "source": [
    "Membership Operator('in', 'not in')"
   ]
  },
  {
   "cell_type": "code",
   "execution_count": 23,
   "id": "2390432d-5566-4ff4-826f-9cf8ea4d862d",
   "metadata": {},
   "outputs": [
    {
     "data": {
      "text/plain": [
       "True"
      ]
     },
     "execution_count": 23,
     "metadata": {},
     "output_type": "execute_result"
    }
   ],
   "source": [
    "list=[1,2,3,4,5,6,7]\n",
    "\n",
    "1 in list"
   ]
  },
  {
   "cell_type": "code",
   "execution_count": 24,
   "id": "df109ae5-e51b-424b-a342-07a403429069",
   "metadata": {},
   "outputs": [
    {
     "data": {
      "text/plain": [
       "True"
      ]
     },
     "execution_count": 24,
     "metadata": {},
     "output_type": "execute_result"
    }
   ],
   "source": [
    "10 not in list"
   ]
  },
  {
   "cell_type": "code",
   "execution_count": 25,
   "id": "ce415bee-0297-4231-af2f-ed986281b43a",
   "metadata": {},
   "outputs": [
    {
     "data": {
      "text/plain": [
       "True"
      ]
     },
     "execution_count": 25,
     "metadata": {},
     "output_type": "execute_result"
    }
   ],
   "source": [
    "s = {1,2,3,4}\n",
    "1 in s"
   ]
  },
  {
   "cell_type": "code",
   "execution_count": 26,
   "id": "9dcc4ca4-08ff-40ca-ae3c-149b797e6560",
   "metadata": {},
   "outputs": [
    {
     "data": {
      "text/plain": [
       "False"
      ]
     },
     "execution_count": 26,
     "metadata": {},
     "output_type": "execute_result"
    }
   ],
   "source": [
    "st = 'Hello! Global World'\n",
    "'data' in st"
   ]
  },
  {
   "cell_type": "markdown",
   "id": "e38a3f08-ec91-4301-b47c-239b069b6c81",
   "metadata": {},
   "source": [
    "Bitwise Operators"
   ]
  },
  {
   "cell_type": "code",
   "execution_count": 27,
   "id": "b1a05780-78b5-4d60-a6aa-98880bd5bf22",
   "metadata": {},
   "outputs": [
    {
     "ename": "SyntaxError",
     "evalue": "leading zeros in decimal integer literals are not permitted; use an 0o prefix for octal integers (1233222802.py, line 3)",
     "output_type": "error",
     "traceback": [
      "  \u001b[36mCell\u001b[39m\u001b[36m \u001b[39m\u001b[32mIn[27]\u001b[39m\u001b[32m, line 3\u001b[39m\n\u001b[31m    \u001b[39m\u001b[31my = 0101 #5\u001b[39m\n        ^\n\u001b[31mSyntaxError\u001b[39m\u001b[31m:\u001b[39m leading zeros in decimal integer literals are not permitted; use an 0o prefix for octal integers\n"
     ]
    }
   ],
   "source": [
    "Rough\n",
    "x = 1010 #binary value of 10 \n",
    "y = 0101 #binary value of 5\n",
    "\n",
    "x | y = 1111\n",
    "x & y = 0000"
   ]
  },
  {
   "cell_type": "code",
   "execution_count": 28,
   "id": "487a7205-dc01-460b-8c71-7b03ff0fd2ac",
   "metadata": {},
   "outputs": [
    {
     "data": {
      "text/plain": [
       "15"
      ]
     },
     "execution_count": 28,
     "metadata": {},
     "output_type": "execute_result"
    }
   ],
   "source": [
    "x = 10\n",
    "y = 5\n",
    "\n",
    "x |y"
   ]
  },
  {
   "cell_type": "code",
   "execution_count": 29,
   "id": "cda45a0e-b7f0-43ec-b6e5-99a5b3a82666",
   "metadata": {},
   "outputs": [
    {
     "data": {
      "text/plain": [
       "0"
      ]
     },
     "execution_count": 29,
     "metadata": {},
     "output_type": "execute_result"
    }
   ],
   "source": [
    "x & y"
   ]
  },
  {
   "cell_type": "markdown",
   "id": "65e909b2-a4a2-44e4-a6a8-eeba15b181da",
   "metadata": {},
   "source": [
    "Comparison operator"
   ]
  },
  {
   "cell_type": "code",
   "execution_count": 30,
   "id": "1ec2935a-7cc7-4a7e-9081-fc72f4132619",
   "metadata": {},
   "outputs": [
    {
     "data": {
      "text/plain": [
       "True"
      ]
     },
     "execution_count": 30,
     "metadata": {},
     "output_type": "execute_result"
    }
   ],
   "source": [
    "10>4 or 10<3"
   ]
  },
  {
   "cell_type": "code",
   "execution_count": 31,
   "id": "25ad8e5e-fe15-4ab1-9b73-0ab4a97e554c",
   "metadata": {},
   "outputs": [
    {
     "data": {
      "text/plain": [
       "False"
      ]
     },
     "execution_count": 31,
     "metadata": {},
     "output_type": "execute_result"
    }
   ],
   "source": [
    "not(10>4 or 10<3)"
   ]
  },
  {
   "cell_type": "code",
   "execution_count": null,
   "id": "af63e294-fdc6-4c23-b0ee-5e750bf716c5",
   "metadata": {},
   "outputs": [],
   "source": []
  }
 ],
 "metadata": {
  "kernelspec": {
   "display_name": "Python 3 (ipykernel)",
   "language": "python",
   "name": "python3"
  },
  "language_info": {
   "codemirror_mode": {
    "name": "ipython",
    "version": 3
   },
   "file_extension": ".py",
   "mimetype": "text/x-python",
   "name": "python",
   "nbconvert_exporter": "python",
   "pygments_lexer": "ipython3",
   "version": "3.13.3"
  }
 },
 "nbformat": 4,
 "nbformat_minor": 5
}
