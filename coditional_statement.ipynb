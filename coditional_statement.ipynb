{
 "cells": [
  {
   "cell_type": "code",
   "execution_count": 1,
   "id": "7b3a8651-c314-433c-800a-255535f00677",
   "metadata": {},
   "outputs": [
    {
     "name": "stdout",
     "output_type": "stream",
     "text": [
      "y is greater than x\n",
      "cse\n"
     ]
    }
   ],
   "source": [
    "x = 50\n",
    "y = 100\n",
    "if x>y:\n",
    "    print('x is greater than y')\n",
    "if y>x:\n",
    "    print('y is greater than x')\n",
    "    print('cse')\n",
    "    \n",
    "else:\n",
    "    print('No output')"
   ]
  },
  {
   "cell_type": "code",
   "execution_count": 3,
   "id": "3ca2f546-47c7-4602-83b5-00b085f4b1f5",
   "metadata": {},
   "outputs": [
    {
     "name": "stdout",
     "output_type": "stream",
     "text": [
      "y is greater than x\n",
      "cse\n"
     ]
    }
   ],
   "source": [
    "if x>y:\n",
    "    print('x is greater than y')\n",
    "elif y>x:\n",
    "    print('y is greater than x')\n",
    "    print('cse')\n",
    "    if x == y:\n",
    "        print('Not equal')  \n",
    "else:\n",
    "    print('Out!')"
   ]
  },
  {
   "cell_type": "code",
   "execution_count": 6,
   "id": "b3c33068-328b-4590-9452-525d2f1a6d4d",
   "metadata": {},
   "outputs": [
    {
     "name": "stdin",
     "output_type": "stream",
     "text": [
      "Enter any number :  4\n"
     ]
    },
    {
     "name": "stdout",
     "output_type": "stream",
     "text": [
      "not divisible by 5 snd 2\n"
     ]
    }
   ],
   "source": [
    "num = float(input('Enter any number : '))\n",
    "\n",
    "if num % 2 == 0:\n",
    "    if num % 5 ==0:\n",
    "        print(num,' Divisible bt 5 and 2')\n",
    "    else:\n",
    "        print('not divisible by 5 snd 2')\n",
    "else:\n",
    "    print('bye')"
   ]
  },
  {
   "cell_type": "code",
   "execution_count": null,
   "id": "e46a8fac-1c8d-4fd0-abf6-283a31734aab",
   "metadata": {},
   "outputs": [],
   "source": []
  }
 ],
 "metadata": {
  "kernelspec": {
   "display_name": "Python 3 (ipykernel)",
   "language": "python",
   "name": "python3"
  },
  "language_info": {
   "codemirror_mode": {
    "name": "ipython",
    "version": 3
   },
   "file_extension": ".py",
   "mimetype": "text/x-python",
   "name": "python",
   "nbconvert_exporter": "python",
   "pygments_lexer": "ipython3",
   "version": "3.13.3"
  }
 },
 "nbformat": 4,
 "nbformat_minor": 5
}
