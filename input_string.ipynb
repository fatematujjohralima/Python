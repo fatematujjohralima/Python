{
 "cells": [
  {
   "cell_type": "code",
   "execution_count": 1,
   "id": "b005448b-4a72-4f1b-872d-80478d7dbd0e",
   "metadata": {},
   "outputs": [
    {
     "name": "stdin",
     "output_type": "stream",
     "text": [
      " fatema\n"
     ]
    }
   ],
   "source": [
    "#Input\n",
    "#input sadharonoto string hisebe ney\n",
    "lima=input()"
   ]
  },
  {
   "cell_type": "code",
   "execution_count": 2,
   "id": "e1fa4731-890d-417d-b398-b551f1337d19",
   "metadata": {},
   "outputs": [
    {
     "data": {
      "text/plain": [
       "'fatema'"
      ]
     },
     "execution_count": 2,
     "metadata": {},
     "output_type": "execute_result"
    }
   ],
   "source": [
    "lima\n"
   ]
  },
  {
   "cell_type": "code",
   "execution_count": 3,
   "id": "8463cc54-2e82-4702-b447-eae08ccb1d3e",
   "metadata": {},
   "outputs": [
    {
     "data": {
      "text/plain": [
       "str"
      ]
     },
     "execution_count": 3,
     "metadata": {},
     "output_type": "execute_result"
    }
   ],
   "source": [
    "type(lima)"
   ]
  },
  {
   "cell_type": "code",
   "execution_count": 4,
   "id": "0fb72fdc-49c9-4be8-827e-3a025041d85d",
   "metadata": {},
   "outputs": [
    {
     "name": "stdin",
     "output_type": "stream",
     "text": [
      " 50\n",
      " 10\n"
     ]
    }
   ],
   "source": [
    "x = input()\n",
    "y = input()"
   ]
  },
  {
   "cell_type": "code",
   "execution_count": 5,
   "id": "cee908a6-e748-4428-9833-5a599d8e998c",
   "metadata": {},
   "outputs": [
    {
     "data": {
      "text/plain": [
       "'5010'"
      ]
     },
     "execution_count": 5,
     "metadata": {},
     "output_type": "execute_result"
    }
   ],
   "source": [
    "x+y"
   ]
  },
  {
   "cell_type": "code",
   "execution_count": 8,
   "id": "6c5ea4f2-15f9-48f8-b4df-7fa97608ee34",
   "metadata": {},
   "outputs": [],
   "source": [
    "x=int(x) # convert string to int\n",
    "y=int(y)"
   ]
  },
  {
   "cell_type": "code",
   "execution_count": 9,
   "id": "eaf9c557-1010-4112-b03b-6e3692403041",
   "metadata": {},
   "outputs": [
    {
     "data": {
      "text/plain": [
       "60"
      ]
     },
     "execution_count": 9,
     "metadata": {},
     "output_type": "execute_result"
    }
   ],
   "source": [
    "x+y"
   ]
  },
  {
   "cell_type": "code",
   "execution_count": 13,
   "id": "9dd33d7b-57c7-41f1-8e4f-ec716a6d1c02",
   "metadata": {},
   "outputs": [
    {
     "name": "stdin",
     "output_type": "stream",
     "text": [
      " 10\n",
      "Enter nymber 20\n"
     ]
    }
   ],
   "source": [
    " # direct take input as int\n",
    "x=float(input()) # operating korle float use korbo\n",
    "y=float(input('Enter nymber'))"
   ]
  },
  {
   "cell_type": "code",
   "execution_count": 14,
   "id": "a08901dd-c9f0-48b8-9917-662e6aa22e58",
   "metadata": {},
   "outputs": [
    {
     "data": {
      "text/plain": [
       "30"
      ]
     },
     "execution_count": 14,
     "metadata": {},
     "output_type": "execute_result"
    }
   ],
   "source": [
    "x+y\n"
   ]
  },
  {
   "cell_type": "code",
   "execution_count": 15,
   "id": "bdf8a5c4-9d83-428f-a51c-0ada2116f7e1",
   "metadata": {},
   "outputs": [],
   "source": [
    "#String\n",
    "name='Fatema Tuj Johra Lima'"
   ]
  },
  {
   "cell_type": "code",
   "execution_count": 16,
   "id": "0fb4c3b0-f8d7-47ec-9c51-b9ab231560c6",
   "metadata": {},
   "outputs": [
    {
     "data": {
      "text/plain": [
       "str"
      ]
     },
     "execution_count": 16,
     "metadata": {},
     "output_type": "execute_result"
    }
   ],
   "source": [
    "type(name)"
   ]
  },
  {
   "cell_type": "code",
   "execution_count": 17,
   "id": "10d89136-1788-41d1-b26c-a3410cdc22f7",
   "metadata": {},
   "outputs": [
    {
     "data": {
      "text/plain": [
       "21"
      ]
     },
     "execution_count": 17,
     "metadata": {},
     "output_type": "execute_result"
    }
   ],
   "source": [
    "len(name)"
   ]
  },
  {
   "cell_type": "code",
   "execution_count": 19,
   "id": "3a7539f3-b014-4391-8a18-aea8efdd0080",
   "metadata": {},
   "outputs": [
    {
     "data": {
      "text/plain": [
       "62"
      ]
     },
     "execution_count": 19,
     "metadata": {},
     "output_type": "execute_result"
    }
   ],
   "source": [
    "#koto byte memory dokhol korche\n",
    "import sys\n",
    "sys.getsizeof(name)"
   ]
  },
  {
   "cell_type": "code",
   "execution_count": 22,
   "id": "574536b5-e024-4d9f-94e9-82a6dc8793c6",
   "metadata": {},
   "outputs": [
    {
     "data": {
      "text/plain": [
       "1"
      ]
     },
     "execution_count": 22,
     "metadata": {},
     "output_type": "execute_result"
    }
   ],
   "source": [
    "#substring count 'count function' diye\n",
    "name.count('Lima')"
   ]
  },
  {
   "cell_type": "code",
   "execution_count": 23,
   "id": "3bf51500-e191-43fa-ae0a-5215ee3700c9",
   "metadata": {},
   "outputs": [
    {
     "data": {
      "text/plain": [
       "7"
      ]
     },
     "execution_count": 23,
     "metadata": {},
     "output_type": "execute_result"
    }
   ],
   "source": [
    "#find any string with index number by 'find function'\n",
    "name.find('Tuj')"
   ]
  },
  {
   "cell_type": "code",
   "execution_count": 25,
   "id": "354280c4-33cb-434a-bd31-e4c5af78cd73",
   "metadata": {},
   "outputs": [
    {
     "data": {
      "text/plain": [
       "1"
      ]
     },
     "execution_count": 25,
     "metadata": {},
     "output_type": "execute_result"
    }
   ],
   "source": [
    "#find letter\n",
    "name.find('a')"
   ]
  },
  {
   "cell_type": "code",
   "execution_count": 26,
   "id": "fddd2b84-4cfd-4548-ad5a-a87bf781bc20",
   "metadata": {},
   "outputs": [
    {
     "data": {
      "text/plain": [
       "-1"
      ]
     },
     "execution_count": 26,
     "metadata": {},
     "output_type": "execute_result"
    }
   ],
   "source": [
    "name.find('t',6,10) #find t letter between 6 to 10 range index number ,here, '-1' means not exist"
   ]
  },
  {
   "cell_type": "code",
   "execution_count": null,
   "id": "ad62ac57-91c4-44f1-8f6a-63b989525055",
   "metadata": {},
   "outputs": [],
   "source": [
    "'index() & find() er kaj same....eder moddhe main difference holo....'index()' diye kono letter/string khuje na pele error dibe....\n",
    "'find()' diye kono letter/string khuje na pele '-1' return korbe"
   ]
  },
  {
   "cell_type": "code",
   "execution_count": 27,
   "id": "dc25012f-17fb-41c0-bae1-c1d18279420d",
   "metadata": {},
   "outputs": [
    {
     "data": {
      "text/plain": [
       "'fatema tuj johra lima'"
      ]
     },
     "execution_count": 27,
     "metadata": {},
     "output_type": "execute_result"
    }
   ],
   "source": [
    "name.lower() #convert all char into lower case"
   ]
  },
  {
   "cell_type": "code",
   "execution_count": 28,
   "id": "8812f560-a692-44e9-b04a-c6062b5fbc00",
   "metadata": {},
   "outputs": [
    {
     "data": {
      "text/plain": [
       "'FATEMA TUJ JOHRA LIMA'"
      ]
     },
     "execution_count": 28,
     "metadata": {},
     "output_type": "execute_result"
    }
   ],
   "source": [
    "name.upper() #convert all char into upper case"
   ]
  },
  {
   "cell_type": "code",
   "execution_count": 29,
   "id": "492ee71e-c086-4a89-ad62-4743c0b4ae81",
   "metadata": {},
   "outputs": [
    {
     "data": {
      "text/plain": [
       "'fatema tuj johra lima'"
      ]
     },
     "execution_count": 29,
     "metadata": {},
     "output_type": "execute_result"
    }
   ],
   "source": [
    "name.casefold() #lower"
   ]
  },
  {
   "cell_type": "code",
   "execution_count": 30,
   "id": "39b258f6-34ac-4765-8c06-489bc90f2651",
   "metadata": {},
   "outputs": [
    {
     "data": {
      "text/plain": [
       "'Fatema tuj johra lima'"
      ]
     },
     "execution_count": 30,
     "metadata": {},
     "output_type": "execute_result"
    }
   ],
   "source": [
    "name.capitalize() #convert only first char into upper case"
   ]
  },
  {
   "cell_type": "code",
   "execution_count": 31,
   "id": "8245777e-088c-46bb-a96c-be0644ea3f54",
   "metadata": {},
   "outputs": [
    {
     "data": {
      "text/plain": [
       "'fATEMA tUJ jOHRA lIMA'"
      ]
     },
     "execution_count": 31,
     "metadata": {},
     "output_type": "execute_result"
    }
   ],
   "source": [
    "name.swapcase()  # capital letter small e covert hobe & small letter capital e convert hobe"
   ]
  },
  {
   "cell_type": "code",
   "execution_count": 33,
   "id": "d9038694-000f-4756-8c88-b42cc63f823e",
   "metadata": {},
   "outputs": [
    {
     "data": {
      "text/plain": [
       "'Fatema Tuj Johra Lima'"
      ]
     },
     "execution_count": 33,
     "metadata": {},
     "output_type": "execute_result"
    }
   ],
   "source": [
    "name.title()  #protita letter er 1st char capital letter e covert hobe"
   ]
  },
  {
   "cell_type": "code",
   "execution_count": 35,
   "id": "7478529e-eded-46a8-befe-213dafcb0820",
   "metadata": {},
   "outputs": [
    {
     "data": {
      "text/plain": [
       "False"
      ]
     },
     "execution_count": 35,
     "metadata": {},
     "output_type": "execute_result"
    }
   ],
   "source": [
    "name.islower()  # protita word kon case e ache"
   ]
  },
  {
   "cell_type": "code",
   "execution_count": 40,
   "id": "1178c937-661a-4d86-8476-0d3b911187f2",
   "metadata": {},
   "outputs": [
    {
     "data": {
      "text/plain": [
       "'FATEMA TUJ JOHRA LIMA'"
      ]
     },
     "execution_count": 40,
     "metadata": {},
     "output_type": "execute_result"
    }
   ],
   "source": [
    "name.upper()\n"
   ]
  },
  {
   "cell_type": "code",
   "execution_count": 39,
   "id": "547918b1-938b-43ac-814f-e0dfedd04d40",
   "metadata": {},
   "outputs": [
    {
     "data": {
      "text/plain": [
       "False"
      ]
     },
     "execution_count": 39,
     "metadata": {},
     "output_type": "execute_result"
    }
   ],
   "source": [
    "name.isupper()"
   ]
  },
  {
   "cell_type": "code",
   "execution_count": 45,
   "id": "4cac0f09-ae4c-4826-8d40-ed0e6d5d11f3",
   "metadata": {},
   "outputs": [
    {
     "data": {
      "text/plain": [
       "True"
      ]
     },
     "execution_count": 45,
     "metadata": {},
     "output_type": "execute_result"
    }
   ],
   "source": [
    "lima='208'\n",
    "lima.isdigit()"
   ]
  },
  {
   "cell_type": "code",
   "execution_count": 46,
   "id": "c9508054-715c-4a7a-a93e-80c475ff730c",
   "metadata": {},
   "outputs": [
    {
     "data": {
      "text/plain": [
       "b'Fatema Tuj Johra Lima'"
      ]
     },
     "execution_count": 46,
     "metadata": {},
     "output_type": "execute_result"
    }
   ],
   "source": [
    "name.encode()"
   ]
  },
  {
   "cell_type": "code",
   "execution_count": 47,
   "id": "ac63fbe4-f56d-4f64-bbbf-16579ec761b8",
   "metadata": {},
   "outputs": [
    {
     "data": {
      "text/plain": [
       "bytes"
      ]
     },
     "execution_count": 47,
     "metadata": {},
     "output_type": "execute_result"
    }
   ],
   "source": [
    "type(name.encode())"
   ]
  },
  {
   "cell_type": "code",
   "execution_count": 48,
   "id": "6c107e00-18ba-43cb-ab58-76c70fcb3d0b",
   "metadata": {},
   "outputs": [
    {
     "data": {
      "text/plain": [
       "['Fatema', 'Tuj', 'Johra', 'Lima']"
      ]
     },
     "execution_count": 48,
     "metadata": {},
     "output_type": "execute_result"
    }
   ],
   "source": [
    "name.split()"
   ]
  },
  {
   "cell_type": "code",
   "execution_count": 49,
   "id": "ca91c1f1-5959-4a77-abaf-3738ab83e2c9",
   "metadata": {},
   "outputs": [
    {
     "data": {
      "text/plain": [
       "'Fatema'"
      ]
     },
     "execution_count": 49,
     "metadata": {},
     "output_type": "execute_result"
    }
   ],
   "source": [
    "name.split()[0]"
   ]
  },
  {
   "cell_type": "code",
   "execution_count": 50,
   "id": "d08542b4-43cb-4f30-a2aa-8fb938608bff",
   "metadata": {},
   "outputs": [
    {
     "data": {
      "text/plain": [
       "'                                       Fatema Tuj Johra Lima                                        '"
      ]
     },
     "execution_count": 50,
     "metadata": {},
     "output_type": "execute_result"
    }
   ],
   "source": [
    "name.center(100)"
   ]
  },
  {
   "cell_type": "code",
   "execution_count": 52,
   "id": "601b799e-00da-424a-a7a1-dfcd2fc347ad",
   "metadata": {},
   "outputs": [
    {
     "data": {
      "text/plain": [
       "'208'"
      ]
     },
     "execution_count": 52,
     "metadata": {},
     "output_type": "execute_result"
    }
   ],
   "source": [
    "lima.replace('Lima','Monu')"
   ]
  },
  {
   "cell_type": "code",
   "execution_count": 53,
   "id": "930f1493-cd67-487f-b7f2-49ba2ca27691",
   "metadata": {},
   "outputs": [
    {
     "name": "stdout",
     "output_type": "stream",
     "text": [
      "I have  1000 taka\n"
     ]
    }
   ],
   "source": [
    "x = 10\n",
    "y = 100\n",
    "z = x*y\n",
    "\n",
    "print('I have ',z,'taka')"
   ]
  },
  {
   "cell_type": "code",
   "execution_count": 54,
   "id": "46a640a6-34c8-4f94-be97-cafb4d321eca",
   "metadata": {},
   "outputs": [
    {
     "name": "stdout",
     "output_type": "stream",
     "text": [
      "I have 1000 taka\n"
     ]
    }
   ],
   "source": [
    "print('I have {} taka'.format(z))"
   ]
  },
  {
   "cell_type": "code",
   "execution_count": null,
   "id": "87385d54-93da-4856-83c4-9912332caf51",
   "metadata": {},
   "outputs": [],
   "source": []
  }
 ],
 "metadata": {
  "kernelspec": {
   "display_name": "Python 3 (ipykernel)",
   "language": "python",
   "name": "python3"
  },
  "language_info": {
   "codemirror_mode": {
    "name": "ipython",
    "version": 3
   },
   "file_extension": ".py",
   "mimetype": "text/x-python",
   "name": "python",
   "nbconvert_exporter": "python",
   "pygments_lexer": "ipython3",
   "version": "3.13.3"
  }
 },
 "nbformat": 4,
 "nbformat_minor": 5
}
