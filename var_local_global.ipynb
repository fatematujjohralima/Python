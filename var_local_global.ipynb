{
 "cells": [
  {
   "cell_type": "code",
   "execution_count": 1,
   "id": "81684907-0745-4c76-8ad6-606054de3724",
   "metadata": {},
   "outputs": [
    {
     "name": "stdout",
     "output_type": "stream",
     "text": [
      "Lima\n"
     ]
    }
   ],
   "source": [
    "var='Lima'\n",
    "print(var)"
   ]
  },
  {
   "cell_type": "code",
   "execution_count": 2,
   "id": "10a8f9b3-2e0d-446c-9068-db3300dc59aa",
   "metadata": {},
   "outputs": [
    {
     "data": {
      "text/plain": [
       "45"
      ]
     },
     "execution_count": 2,
     "metadata": {},
     "output_type": "execute_result"
    }
   ],
   "source": [
    "import sys\n",
    "sys.getsizeof(var)\n"
   ]
  },
  {
   "cell_type": "code",
   "execution_count": 3,
   "id": "10f91a42-c2ce-4dd0-8432-a8c5a6f9d044",
   "metadata": {},
   "outputs": [
    {
     "data": {
      "text/plain": [
       "2010532159936"
      ]
     },
     "execution_count": 3,
     "metadata": {},
     "output_type": "execute_result"
    }
   ],
   "source": [
    "id(var)\n"
   ]
  },
  {
   "cell_type": "code",
   "execution_count": null,
   "id": "6062d606-6bae-4823-af0a-59043e471930",
   "metadata": {},
   "outputs": [],
   "source": [
    "#multi word variable name\n",
    "snake_case_var=1\n",
    "camelCaseVar=2\n",
    "PascalCaseVar=3\n"
   ]
  },
  {
   "cell_type": "code",
   "execution_count": 6,
   "id": "0c02d667-49ec-4ec9-9a1e-60d6c6a78c47",
   "metadata": {},
   "outputs": [
    {
     "name": "stdout",
     "output_type": "stream",
     "text": [
      "My Num is: 500\n",
      "My Num is: 1000\n"
     ]
    }
   ],
   "source": [
    "#local vs global\n",
    "x = 1000 #global\n",
    "def fun1():\n",
    "    x = 500 #local\n",
    "    print('My Num is:',x)\n",
    "fun1()\n",
    "print('My Num is:',x)"
   ]
  },
  {
   "cell_type": "code",
   "execution_count": null,
   "id": "2772d544-898d-48c7-9d82-d9159361e5a8",
   "metadata": {},
   "outputs": [],
   "source": []
  }
 ],
 "metadata": {
  "kernelspec": {
   "display_name": "Python 3 (ipykernel)",
   "language": "python",
   "name": "python3"
  },
  "language_info": {
   "codemirror_mode": {
    "name": "ipython",
    "version": 3
   },
   "file_extension": ".py",
   "mimetype": "text/x-python",
   "name": "python",
   "nbconvert_exporter": "python",
   "pygments_lexer": "ipython3",
   "version": "3.13.3"
  }
 },
 "nbformat": 4,
 "nbformat_minor": 5
}
