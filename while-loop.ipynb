{
 "cells": [
  {
   "cell_type": "code",
   "execution_count": 1,
   "id": "2e42b2d4-e07b-48c5-aa3a-f089c826d928",
   "metadata": {},
   "outputs": [
    {
     "name": "stdout",
     "output_type": "stream",
     "text": [
      "0 lima\n",
      "2 lima\n",
      "4 lima\n",
      "6 lima\n",
      "8 lima\n",
      "10 lima\n"
     ]
    }
   ],
   "source": [
    "#initialization;while (condition);print;increase/decrease\n",
    "i = 0\n",
    "while (i<=10):\n",
    "    print(i,'lima')\n",
    "    i +=2 "
   ]
  },
  {
   "cell_type": "code",
   "execution_count": 3,
   "id": "816b8a30-0386-44b4-975b-b65ab94cfeab",
   "metadata": {},
   "outputs": [
    {
     "name": "stdout",
     "output_type": "stream",
     "text": [
      "b\n",
      "a\n",
      "n\n",
      "g\n",
      "l\n",
      "a\n",
      "d\n",
      "e\n",
      "s\n",
      "h\n"
     ]
    }
   ],
   "source": [
    "data='bangladesh'\n",
    "index=0\n",
    "while index<len(data):\n",
    "    print(data[index])\n",
    "    index = index+1"
   ]
  },
  {
   "cell_type": "code",
   "execution_count": null,
   "id": "d1175709-71cb-442d-91ca-c6312dc6b5c5",
   "metadata": {},
   "outputs": [],
   "source": []
  }
 ],
 "metadata": {
  "kernelspec": {
   "display_name": "Python 3 (ipykernel)",
   "language": "python",
   "name": "python3"
  },
  "language_info": {
   "codemirror_mode": {
    "name": "ipython",
    "version": 3
   },
   "file_extension": ".py",
   "mimetype": "text/x-python",
   "name": "python",
   "nbconvert_exporter": "python",
   "pygments_lexer": "ipython3",
   "version": "3.13.3"
  }
 },
 "nbformat": 4,
 "nbformat_minor": 5
}
